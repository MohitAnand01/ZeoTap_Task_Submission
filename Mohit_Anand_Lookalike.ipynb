{
  "nbformat": 4,
  "nbformat_minor": 0,
  "metadata": {
    "colab": {
      "provenance": []
    },
    "kernelspec": {
      "name": "python3",
      "display_name": "Python 3"
    },
    "language_info": {
      "name": "python"
    }
  },
  "cells": [
    {
      "cell_type": "code",
      "execution_count": 25,
      "metadata": {
        "id": "a9_WQyzGWZEr"
      },
      "outputs": [],
      "source": [
        "import pandas as pd\n",
        "from sklearn.metrics.pairwise import cosine_similarity\n",
        "from sklearn.preprocessing import StandardScaler\n",
        "import numpy as np\n",
        "\n"
      ]
    },
    {
      "cell_type": "code",
      "source": [
        "# Load datasets\n",
        "customers = pd.read_csv(\"Customers.csv\")\n",
        "products = pd.read_csv(\"Products.csv\")\n",
        "transactions = pd.read_csv(\"Transactions.csv\")\n"
      ],
      "metadata": {
        "id": "yVATaeyEbtXR"
      },
      "execution_count": 26,
      "outputs": []
    },
    {
      "cell_type": "code",
      "source": [
        "# Merge datasets\n",
        "data = pd.merge(transactions, customers, on=\"CustomerID\")\n",
        "data = pd.merge(data, products, on=\"ProductID\")\n"
      ],
      "metadata": {
        "id": "dD5TxbbCc8w-"
      },
      "execution_count": 27,
      "outputs": []
    },
    {
      "cell_type": "code",
      "source": [
        "# Feature Engineering\n",
        "# Aggregate transaction data for each customer\n",
        "data['TransactionDate'] = pd.to_datetime(data['TransactionDate'])\n",
        "customer_features = data.groupby('CustomerID').agg(\n",
        "    total_value=('TotalValue', 'sum'),\n",
        "    total_quantity=('Quantity', 'sum'),\n",
        "    avg_transaction_value=('TotalValue', 'mean'),\n",
        "    unique_categories=('Category', lambda x: x.nunique()),\n",
        "    unique_products=('ProductID', lambda x: x.nunique())\n",
        ").reset_index()\n"
      ],
      "metadata": {
        "id": "3E5MTXAGc_xF"
      },
      "execution_count": 28,
      "outputs": []
    },
    {
      "cell_type": "code",
      "source": [
        "# Filter for the first 20 customers (C0001 - C0020)\n",
        "filtered_customers = customer_features[customer_features['CustomerID'].isin([f\"C{str(i).zfill(4)}\" for i in range(1, 21)])]\n"
      ],
      "metadata": {
        "id": "Pmfs5jnYdNPN"
      },
      "execution_count": 29,
      "outputs": []
    },
    {
      "cell_type": "code",
      "source": [
        "# Normalize features for similarity calculation\n",
        "scaler = StandardScaler()\n",
        "features_normalized = scaler.fit_transform(filtered_customers.iloc[:, 1:])\n"
      ],
      "metadata": {
        "id": "fqMdYngzdUMM"
      },
      "execution_count": 30,
      "outputs": []
    },
    {
      "cell_type": "code",
      "source": [
        "# Compute cosine similarity\n",
        "similarity_matrix = cosine_similarity(features_normalized)\n",
        "\n"
      ],
      "metadata": {
        "id": "MMJpGOl4dX7P"
      },
      "execution_count": 31,
      "outputs": []
    },
    {
      "cell_type": "code",
      "source": [
        "# Generate Lookalike Data\n",
        "lookalike_results = {}\n",
        "customer_ids = filtered_customers['CustomerID'].values\n",
        "\n",
        "for i, customer in enumerate(customer_ids):\n",
        "    # Get similarity scores for the customer\n",
        "    similarities = similarity_matrix[i]\n",
        "    similar_customers = [\n",
        "        (customer_ids[j], similarities[j]) for j in range(len(customer_ids)) if j != i\n",
        "    ]\n",
        "    # Sort by similarity score in descending order\n",
        "    similar_customers = sorted(similar_customers, key=lambda x: x[1], reverse=True)[:3]\n",
        "    lookalike_results[customer] = similar_customers\n"
      ],
      "metadata": {
        "id": "4YSNLcGfdaJN"
      },
      "execution_count": 32,
      "outputs": []
    },
    {
      "cell_type": "code",
      "source": [
        "# Create Lookalike.csv\n",
        "lookalike_df = pd.DataFrame({\n",
        "    \"CustomerID\": lookalike_results.keys(),\n",
        "    \"Lookalikes\": [str(value) for value in lookalike_results.values()]\n",
        "})\n",
        "\n",
        "# Save Lookalike.csv\n",
        "lookalike_df.to_csv(\"Lookalike.csv\", index=False)\n",
        "\n",
        "print(\"Lookalike Model for first 20 customers and Lookalike.csv generated successfully!\")"
      ],
      "metadata": {
        "colab": {
          "base_uri": "https://localhost:8080/"
        },
        "id": "KZK1i0duddMf",
        "outputId": "ed227cc1-7acf-496e-f628-bab7421394bb"
      },
      "execution_count": 33,
      "outputs": [
        {
          "output_type": "stream",
          "name": "stdout",
          "text": [
            "Lookalike Model for first 20 customers and Lookalike.csv generated successfully!\n"
          ]
        }
      ]
    },
    {
      "cell_type": "code",
      "source": [],
      "metadata": {
        "id": "geTQeJ1rdt8p"
      },
      "execution_count": null,
      "outputs": []
    }
  ]
}